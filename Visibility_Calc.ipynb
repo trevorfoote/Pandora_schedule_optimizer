{
 "cells": [
  {
   "cell_type": "code",
   "execution_count": 50,
   "id": "101d00db",
   "metadata": {},
   "outputs": [],
   "source": [
    "import os\n",
    "from progressbar import ProgressBar\n",
    "import numpy as np\n",
    "import pandas as pd\n",
    "import spectres\n",
    "from astropy import units as u\n",
    "from astropy.coordinates import SkyCoord\n",
    "from astropy.time import Time\n",
    "from astropy.visualization import time_support\n",
    "from datetime import datetime\n",
    "\n",
    "%matplotlib inline\n",
    "import matplotlib.pyplot as plt\n",
    "import matplotlib as mpl\n",
    "mpl.rcParams['xtick.major.size'] = 10\n",
    "mpl.rcParams['xtick.major.width'] = 3\n",
    "mpl.rcParams['xtick.minor.size'] = 5\n",
    "mpl.rcParams['xtick.minor.width'] = 1\n",
    "mpl.rcParams['ytick.major.size'] = 10\n",
    "mpl.rcParams['ytick.major.width'] = 3\n",
    "mpl.rcParams['mathtext.fontset'] = 'custom'\n",
    "mpl.rcParams['axes.labelweight'] = 'bold'\n",
    "mpl.rcParams['font.weight'] = 'bold'\n",
    "mpl.rcParams['font.size'] = 18\n",
    "mpl.rcParams['axes.linewidth'] = 6\n",
    "plt.rcParams['font.size'] = '18'"
   ]
  },
  {
   "cell_type": "code",
   "execution_count": 2,
   "id": "793499ee",
   "metadata": {},
   "outputs": [],
   "source": [
    "### Establish Directories and files\n",
    "input_dir   = '/home/trevor/OneDrive/Coding/Pandora/Schedule_Optimizer/Pandora_schedule_optimizer/'\n",
    "target_file = 'Pandora_target_list.csv'\n",
    "gmat_file   = 'GMAT_Pandora.txt'\n",
    "output_dir  = '/home/trevor/OneDrive/Coding/Pandora/Schedule_Optimizer/Results/'\n",
    "\n",
    "### Establish observation parameters\n",
    "Sun_constraint  = 90. *u.deg\n",
    "Moon_constraint  = 40. *u.deg\n",
    "Earth_constraint = 63. *u.deg\n",
    "obs_start = '2025-04-25 00:00:00.000'\n",
    "obs_stop  = '2026-04-25 00:00:00.000'"
   ]
  },
  {
   "cell_type": "markdown",
   "id": "dbf88f1a",
   "metadata": {},
   "source": [
    "### Create an array for Pandora observation year in MJD_UTC with exactly 1 min spacing"
   ]
  },
  {
   "cell_type": "code",
   "execution_count": 3,
   "id": "b821f555",
   "metadata": {},
   "outputs": [],
   "source": [
    "# datetime \n",
    "Dt_iso_utc = pd.date_range(obs_start, obs_stop, freq='min')\n",
    "Dt_iso_utc = Dt_iso_utc.to_pydatetime()\n",
    "Dt_iso_utc = Time(Dt_iso_utc, format='datetime', scale='utc')\n",
    "dt_iso_utc = Dt_iso_utc.to_value('datetime')\n",
    "\n",
    "# iso \n",
    "t_iso_utc  = Dt_iso_utc.to_value('iso')\n",
    "T_iso_utc  = Time(t_iso_utc, format='iso', scale='utc')\n",
    "\n",
    "# mjd \n",
    "t_mjd_utc = T_iso_utc.to_value('mjd')\n",
    "T_mjd_utc = Time(t_mjd_utc, format='mjd', scale='utc')"
   ]
  },
  {
   "cell_type": "markdown",
   "id": "92e58866",
   "metadata": {},
   "source": [
    "### Read in GMAT file"
   ]
  },
  {
   "cell_type": "code",
   "execution_count": 4,
   "id": "884af461",
   "metadata": {},
   "outputs": [],
   "source": [
    "GMAT_file = '/home/trevor/OneDrive/Coding/Pandora/Schedule_Optimizer/Pandora_schedule_optimizer/GMAT_Pandora.txt'\n",
    "\n",
    "df = pd.read_csv(GMAT_file, sep='\\t')\n",
    "\n",
    "# Trim dataframe to slightly larger than date range of \n",
    "# Pandora science lifetime defined as obs_start and obs_stop\n",
    "df = df[(df['Earth.UTCModJulian']>=(T_mjd_utc.jd[0]-2430000.0)-1) & \n",
    "        (df['Earth.UTCModJulian']<=(T_mjd_utc.jd[-1]-2430000.0)+1)]\n",
    "# df"
   ]
  },
  {
   "cell_type": "markdown",
   "id": "d0f79ace",
   "metadata": {},
   "source": [
    "### Convert GMAT times into standard MJD_UTC\n",
    "#Note: GMAT uses different offset for it's MJD (uses 2,430,000.0 rather than 2,400,000.5)"
   ]
  },
  {
   "cell_type": "code",
   "execution_count": null,
   "id": "02b02209",
   "metadata": {},
   "outputs": [],
   "source": []
  },
  {
   "cell_type": "markdown",
   "id": "486e26bb",
   "metadata": {},
   "source": [
    "### Extract GMAT positions in MJ2000 Earth fixed cartesian coordinates"
   ]
  },
  {
   "cell_type": "code",
   "execution_count": 5,
   "id": "f2e4bdba",
   "metadata": {},
   "outputs": [],
   "source": [
    "# Earth\n",
    "GMAT_ex = np.array(df['Earth.EarthMJ2000Eq.X'])\n",
    "GMAT_ey = np.array(df['Earth.EarthMJ2000Eq.Y'])\n",
    "GMAT_ez = np.array(df['Earth.EarthMJ2000Eq.Z'])\n",
    "\n",
    "# Pandora\n",
    "GMAT_px = np.array(df['Pandora.EarthMJ2000Eq.X'])\n",
    "GMAT_py = np.array(df['Pandora.EarthMJ2000Eq.Y'])\n",
    "GMAT_pz = np.array(df['Pandora.EarthMJ2000Eq.Z'])\n",
    "\n",
    "# Sun\n",
    "GMAT_sx = np.array(df['Sun.EarthMJ2000Eq.X'])\n",
    "GMAT_sy = np.array(df['Sun.EarthMJ2000Eq.Y'])\n",
    "GMAT_sz = np.array(df['Sun.EarthMJ2000Eq.Z'])\n",
    "\n",
    "# Moon\n",
    "GMAT_mx = np.array(df['Luna.EarthMJ2000Eq.X'])\n",
    "GMAT_my = np.array(df['Luna.EarthMJ2000Eq.Y'])\n",
    "GMAT_mz = np.array(df['Luna.EarthMJ2000Eq.Z'])"
   ]
  },
  {
   "cell_type": "markdown",
   "id": "0ab4609e",
   "metadata": {},
   "source": [
    "#### Look at time step sizes from GMAT"
   ]
  },
  {
   "cell_type": "code",
   "execution_count": 6,
   "id": "fe8c7d6b",
   "metadata": {},
   "outputs": [
    {
     "name": "stdout",
     "output_type": "stream",
     "text": [
      "Min GMAT time step:  0.28820402920246124  minutes\n",
      "Max GMAT time step:  1.000000610947609  minutes\n"
     ]
    }
   ],
   "source": [
    "t_diff = np.zeros(len(gmat_mjd_utc)-1)\n",
    "for i in range(len(gmat_mjd_utc)-1):\n",
    "    t_diff[i] = (gmat_mjd_utc[i+1]-gmat_mjd_utc[i])\n",
    "\n",
    "print('Min GMAT time step: ', min(t_diff*24*60), ' minutes')\n",
    "print('Max GMAT time step: ', max(t_diff*24*60), ' minutes')"
   ]
  },
  {
   "cell_type": "markdown",
   "id": "37f95f94",
   "metadata": {},
   "source": [
    "### Interpolate all positions from GMAT to map to 1 minute intervals"
   ]
  },
  {
   "cell_type": "code",
   "execution_count": 7,
   "id": "1956c6e3",
   "metadata": {},
   "outputs": [],
   "source": [
    "#Earth\n",
    "ex = np.interp(t_mjd_utc, gmat_mjd_utc, GMAT_ex)\n",
    "ey = np.interp(t_mjd_utc, gmat_mjd_utc, GMAT_ey)\n",
    "ez = np.interp(t_mjd_utc, gmat_mjd_utc, GMAT_ez)\n",
    "\n",
    "#Pandora\n",
    "px = np.interp(t_mjd_utc, gmat_mjd_utc, GMAT_px)\n",
    "py = np.interp(t_mjd_utc, gmat_mjd_utc, GMAT_py)\n",
    "pz = np.interp(t_mjd_utc, gmat_mjd_utc, GMAT_pz)\n",
    "\n",
    "#Moon\n",
    "mx = np.interp(t_mjd_utc, gmat_mjd_utc, GMAT_mx)\n",
    "my = np.interp(t_mjd_utc, gmat_mjd_utc, GMAT_my)\n",
    "mz = np.interp(t_mjd_utc, gmat_mjd_utc, GMAT_mz)\n",
    "\n",
    "#Sun\n",
    "sx = np.interp(t_mjd_utc, gmat_mjd_utc, GMAT_sx)\n",
    "sy = np.interp(t_mjd_utc, gmat_mjd_utc, GMAT_sy)\n",
    "sz = np.interp(t_mjd_utc, gmat_mjd_utc, GMAT_sz)"
   ]
  },
  {
   "cell_type": "markdown",
   "id": "3f0bd5a1",
   "metadata": {},
   "source": [
    "## Coordinate shift to Pandora reference frame"
   ]
  },
  {
   "cell_type": "code",
   "execution_count": 11,
   "id": "78ae2bbe",
   "metadata": {},
   "outputs": [],
   "source": [
    "#Earth\n",
    "exx = ex-px\n",
    "eyy = ey-py\n",
    "ezz = ez-pz\n",
    "\n",
    "#Pandora\n",
    "pxx = px-px\n",
    "pyy = py-py\n",
    "pzz = pz-pz\n",
    "\n",
    "#Sun\n",
    "sxx = sx-px\n",
    "syy = sy-py\n",
    "szz = sz-pz\n",
    "\n",
    "#Moon\n",
    "mxx = mx-px\n",
    "myy = my-py\n",
    "mzz = mz-pz"
   ]
  },
  {
   "cell_type": "markdown",
   "id": "bae994ea",
   "metadata": {},
   "source": [
    "### Create SkyCoord for angular seperation calculations"
   ]
  },
  {
   "cell_type": "code",
   "execution_count": 12,
   "id": "2e8a4b5b",
   "metadata": {},
   "outputs": [],
   "source": [
    "ss = SkyCoord(x=sxx, y=syy, z=szz, unit='km', representation_type='cartesian')\n",
    "ee = SkyCoord(x=exx, y=eyy, z=ezz, unit='km', representation_type='cartesian')\n",
    "mm = SkyCoord(x=mxx, y=myy, z=mzz, unit='km', representation_type='cartesian')\n",
    "pp = SkyCoord(x=pxx, y=pyy, z=pzz, unit='km', representation_type='cartesian')"
   ]
  },
  {
   "cell_type": "markdown",
   "id": "36351c5b",
   "metadata": {},
   "source": [
    "### Establish angle constraints for Earth, Moon, Sun"
   ]
  },
  {
   "cell_type": "code",
   "execution_count": 13,
   "id": "0805d725",
   "metadata": {},
   "outputs": [],
   "source": [
    "# Sun_constraint = 90 *u.deg\n",
    "# Moon_constraint = 40 *u.deg\n",
    "# Earth_constraint = 63. *u.deg #based on worst case orbital alt of 450km \n",
    "\n"
   ]
  },
  {
   "cell_type": "markdown",
   "id": "529fd6cf",
   "metadata": {},
   "source": [
    "## Test case for GJ 3470b"
   ]
  },
  {
   "cell_type": "code",
   "execution_count": 16,
   "id": "3bcdac10",
   "metadata": {},
   "outputs": [
    {
     "name": "stderr",
     "output_type": "stream",
     "text": [
      "  0% |                                                                        |\r"
     ]
    },
    {
     "name": "stdout",
     "output_type": "stream",
     "text": [
      "Calculating angular seperation requirements\n"
     ]
    },
    {
     "name": "stderr",
     "output_type": "stream",
     "text": [
      "100% |########################################################################|\n"
     ]
    }
   ],
   "source": [
    "planet_name = 'GJ 3470 b'\n",
    "planet = SkyCoord.from_name(planet_name) \n",
    "\n",
    "print('Calculating angular seperation requirements')\n",
    "Sun_req = np.zeros(len(pp))\n",
    "Moon_req = np.zeros(len(pp))\n",
    "Earth_req = np.zeros(len(pp))\n",
    "\n",
    "pbar = ProgressBar()\n",
    "for i in pbar(range(len(pp))):\n",
    "    Sun_req[i]   = ss[i].separation(planet).deg * u.deg > Sun_constraint\n",
    "    Moon_req[i]  = mm[i].separation(planet).deg * u.deg > Moon_constraint\n",
    "    Earth_req[i] = ee[i].separation(planet).deg * u.deg > Earth_constraint\n",
    "all_req = Sun_req*Moon_req*Earth_req"
   ]
  },
  {
   "cell_type": "code",
   "execution_count": 26,
   "id": "26944e04",
   "metadata": {},
   "outputs": [
    {
     "data": {
      "text/plain": [
       "<SkyCoord (ICRS): (x, y, z) in km\n",
       "    [(1.23724188e+08, 78592043.86461863, 34067368.52821244),\n",
       "     (1.23723210e+08, 78593459.05943887, 34067504.21972311),\n",
       "     (1.23722262e+08, 78594870.73480326, 34067641.1058194 ), ...,\n",
       "     (1.24085951e+08, 78090402.37039801, 33843972.09649307),\n",
       "     (1.24085375e+08, 78091822.59588833, 33844359.79456582),\n",
       "     (1.24084811e+08, 78093240.21196233, 33844775.02195489)]>"
      ]
     },
     "execution_count": 26,
     "metadata": {},
     "output_type": "execute_result"
    }
   ],
   "source": [
    "ss"
   ]
  },
  {
   "cell_type": "code",
   "execution_count": 27,
   "id": "7bffe7fc",
   "metadata": {},
   "outputs": [
    {
     "data": {
      "text/plain": [
       "<SkyCoord (FK5: equinox=J2000.000): (ra, dec, distance) in (deg, deg, km)\n",
       "    [(32.42452563, 13.08448913, 1.50482456e+08),\n",
       "     (32.42519751, 13.08454518, 1.50482422e+08),\n",
       "     (32.42586197, 13.08459967, 1.50482411e+08), ...,\n",
       "     (32.18324468, 12.99838333, 1.50468763e+08),\n",
       "     (32.18383438, 12.99850416, 1.50469112e+08),\n",
       "     (32.18442054, 12.99863439, 1.50469477e+08)]>"
      ]
     },
     "execution_count": 27,
     "metadata": {},
     "output_type": "execute_result"
    }
   ],
   "source": [
    "ss.transform_to('fk5')"
   ]
  },
  {
   "cell_type": "code",
   "execution_count": null,
   "id": "ca431585",
   "metadata": {},
   "outputs": [],
   "source": []
  },
  {
   "cell_type": "markdown",
   "id": "49757a48",
   "metadata": {},
   "source": [
    "### Save results"
   ]
  },
  {
   "cell_type": "code",
   "execution_count": 17,
   "id": "e5e70764",
   "metadata": {},
   "outputs": [
    {
     "name": "stdout",
     "output_type": "stream",
     "text": [
      "Saving results to:  /home/trevor/OneDrive/Coding/Pandora/Schedule_Optimizer/Results/GJ 3470 b/\n"
     ]
    }
   ],
   "source": [
    "### Set up directory\n",
    "output_dir = '/home/trevor/OneDrive/Coding/Pandora/Schedule_Optimizer/Results/'\n",
    "save_dir = output_dir + planet_name + '/'\n",
    "if os.path.exists(save_dir) != True:\n",
    "    os.makedirs(save_dir)"
   ]
  },
  {
   "cell_type": "code",
   "execution_count": 37,
   "id": "e8619476",
   "metadata": {},
   "outputs": [],
   "source": [
    "### Create data array for saving and save results as csv    \n",
    "data = np.vstack((np.array(list(t_mjd_utc[:])), Earth_req, Moon_req, Sun_req, all_req))\n",
    "data = data.T.reshape(-1,5)\n",
    "\n",
    "print('Saving results to ', save_dir)\n",
    "np.savetxt((output_dir+planet_name+'/'+'sep_angles.csv'), data, \n",
    "           delimiter=',', header='Time(MJD_UTC),Earth_Clear,Moon_Clear,Sun_Clear,Visible', comments='')"
   ]
  },
  {
   "cell_type": "markdown",
   "id": "eca24c69",
   "metadata": {},
   "source": [
    "## Plotting results"
   ]
  },
  {
   "cell_type": "code",
   "execution_count": 17,
   "id": "ff2c2c2a",
   "metadata": {},
   "outputs": [],
   "source": [
    "# Space out the individual requirements\n",
    "Sun_r = Sun_req * 0.25\n",
    "Moon_r = Moon_req * 0.50\n",
    "Earth_r = Earth_req * 0.75"
   ]
  },
  {
   "cell_type": "markdown",
   "id": "ca6f86bf",
   "metadata": {},
   "source": [
    "### Plot entire observing year"
   ]
  },
  {
   "cell_type": "code",
   "execution_count": 18,
   "id": "fadfe881",
   "metadata": {},
   "outputs": [
    {
     "data": {
      "image/png": "[encoded data removed]",
      "text/plain": [
       "<Figure size 1440x720 with 1 Axes>"
      ]
     },
     "metadata": {
      "needs_background": "light"
     },
     "output_type": "display_data"
    }
   ],
   "source": [
    "fig, axs = plt.subplots(1,1, figsize=(20,10))\n",
    "axs.plot(dt_iso_utc, Sun_r  , 'y|')\n",
    "axs.plot(dt_iso_utc, Moon_r , 'C7|')\n",
    "axs.plot(dt_iso_utc, Earth_r, 'g|')\n",
    "axs.plot(dt_iso_utc, all_req, 'b|')\n",
    "\n",
    "axs.set_title('Observing Window for %s' %planet_name)\n",
    "axs.xaxis.set_major_locator(mpl.dates.MonthLocator())\n",
    "axs.xaxis.set_minor_locator(mpl.dates.DayLocator())\n",
    "axs.xaxis.set_major_formatter(mpl.dates.DateFormatter('%Y-%b-%d'))\n",
    "axs.set_yticks([0,0.25, 0.5, 0.75, 1])\n",
    "axs.set_yticklabels(['Blocked', 'Sun Clear', 'Moon Clear', 'Earth Clear', 'Visible'])\n",
    "for label in axs.get_xticklabels(which='major'):\n",
    "    label.set(rotation=30, horizontalalignment='right')\n",
    "axs.set_ylim(0.2, 1.05)\n",
    "axs.set_xlim(dt_iso_utc[0], dt_iso_utc[-1])\n",
    "\n",
    "# Save observing year plot\n",
    "# plt.savefig(save_dir+'Observing Calendar for '\n",
    "#             +planet_name+'.png')\n",
    "plt.show()"
   ]
  },
  {
   "cell_type": "markdown",
   "id": "5c8f10ac",
   "metadata": {},
   "source": [
    "### Plot a zoomed in portion"
   ]
  },
  {
   "cell_type": "code",
   "execution_count": 48,
   "id": "4951d751",
   "metadata": {},
   "outputs": [],
   "source": [
    "start = datetime(2025, 10, 24, 12, 0)\n",
    "stop  = datetime(2025, 10, 24, 14, 30)"
   ]
  },
  {
   "cell_type": "code",
   "execution_count": 51,
   "id": "8beaac94",
   "metadata": {},
   "outputs": [
    {
     "data": {
      "image/png": "[encoded data removed]",
      "text/plain": [
       "<Figure size 1440x720 with 1 Axes>"
      ]
     },
     "metadata": {
      "needs_background": "light"
     },
     "output_type": "display_data"
    }
   ],
   "source": [
    "# Zoom in plot of just a few hours\n",
    "fig, axs = plt.subplots(1,1, figsize=(20,10))\n",
    "axs.plot(dt_iso_utc[np.where((start<=dt_iso_utc) & (dt_iso_utc<=stop))], \n",
    "         Sun_r[np.where((start<=dt_iso_utc) & (dt_iso_utc<=stop))], 'y|')\n",
    "axs.plot(dt_iso_utc[np.where((start<=dt_iso_utc) & (dt_iso_utc<=stop))], \n",
    "         Moon_r[np.where((start<=dt_iso_utc) & (dt_iso_utc<=stop))], 'C7|')\n",
    "axs.plot(dt_iso_utc[np.where((start<=dt_iso_utc) & (dt_iso_utc<=stop))], \n",
    "         Earth_r[np.where((start<=dt_iso_utc) & (dt_iso_utc<=stop))], 'g|')\n",
    "axs.plot(dt_iso_utc[np.where((start<=dt_iso_utc) & (dt_iso_utc<=stop))], \n",
    "         all_req[np.where((start<=dt_iso_utc) & (dt_iso_utc<=stop))], 'b|')\n",
    "\n",
    "axs.set_title('Observing Window for %s' %planet_name)\n",
    "axs.xaxis.set_major_locator(mpl.dates.HourLocator())\n",
    "axs.xaxis.set_minor_locator(mpl.dates.MinuteLocator())\n",
    "axs.xaxis.set_major_formatter(mpl.dates.DateFormatter('%Y-%b-%d %H:%M'))\n",
    "axs.set_yticks([0,0.25, 0.5, 0.75, 1])\n",
    "axs.set_yticklabels(['Blocked', 'Sun Clear', 'Moon Clear', 'Earth Clear', 'Visible'])\n",
    "for label in axs.get_xticklabels(which='major'):\n",
    "    label.set(rotation=30, horizontalalignment='right')\n",
    "axs.set_ylim(0.2, 1.05)\n",
    "axs.set_xlim(start, stop)\n",
    "plt.show()"
   ]
  },
  {
   "cell_type": "markdown",
   "id": "97440736",
   "metadata": {},
   "source": [
    "# Visual checks on coordinate shifts"
   ]
  },
  {
   "cell_type": "markdown",
   "id": "4f3a4409",
   "metadata": {},
   "source": [
    "### Plot Earth reference frame orbits of Pandora, Moon, & Sun"
   ]
  },
  {
   "cell_type": "code",
   "execution_count": null,
   "id": "2cf1c840",
   "metadata": {},
   "outputs": [],
   "source": [
    "fig = plt.figure(figsize=(25,25))\n",
    "ax = fig.add_subplot(projection='3d')\n",
    "ax.scatter3D(ex, ey, ez, color='g')\n",
    "ax.scatter3D(px, py, pz, color='r')\n",
    "ax.set_title('Earth fixed Pandora orbit')"
   ]
  },
  {
   "cell_type": "code",
   "execution_count": null,
   "id": "3e765387",
   "metadata": {},
   "outputs": [],
   "source": [
    "fig = plt.figure(figsize=(25,25))\n",
    "ax = fig.add_subplot(projection='3d')\n",
    "ax.scatter3D(ex, ey, ez, color='g')\n",
    "ax.scatter3D(mx, my, mz, color='C7')\n",
    "ax.set_title('Earth fixed Moon orbit')"
   ]
  },
  {
   "cell_type": "code",
   "execution_count": null,
   "id": "3a731767",
   "metadata": {},
   "outputs": [],
   "source": [
    "fig = plt.figure(figsize=(25,25))\n",
    "ax = fig.add_subplot(projection='3d')\n",
    "ax.scatter3D(ex, ey, ez, color='g')\n",
    "ax.scatter3D(sx, sy, sz, color='y')\n",
    "ax.set_title('Earth fixed Sun orbit')"
   ]
  },
  {
   "cell_type": "markdown",
   "id": "27d9b456",
   "metadata": {},
   "source": [
    "### Plot Pandora reference frame orbits of Earth, Moon, & Sun"
   ]
  },
  {
   "cell_type": "code",
   "execution_count": null,
   "id": "0edc93e2",
   "metadata": {},
   "outputs": [],
   "source": [
    "fig = plt.figure(figsize=(15,15))\n",
    "ax = fig.add_subplot(projection='3d')\n",
    "ax.scatter3D(ex[0], ey[0], ez[0], color='g', label='Earth')\n",
    "ax.scatter3D(px[0], py[0], pz[0], color='r', label='Pandora')\n",
    "plt.legend()\n",
    "plt.show()\n",
    "\n",
    "fig = plt.figure(figsize=(15,15))\n",
    "ax = fig.add_subplot(projection='3d')\n",
    "ax.scatter3D(exx[i], eyy[i], ezz[i], color='g', label='Earth')\n",
    "ax.scatter3D(pxx[i], pyy[i], pzz[i], color='r', label='Pandora')\n",
    "plt.legend()\n",
    "plt.show()\n"
   ]
  },
  {
   "cell_type": "code",
   "execution_count": null,
   "id": "e96c1b64",
   "metadata": {},
   "outputs": [],
   "source": [
    "fig = plt.figure(figsize=(25,25))\n",
    "ax = fig.add_subplot(projection='3d')\n",
    "ax.scatter3D(ex, ey, ez, color='g')\n",
    "ax.scatter3D(px, py, pz, color='r')\n",
    "ax.scatter3D(mx, my, mz, color='gray')\n",
    "plt.show()\n",
    "\n",
    "fig = plt.figure(figsize=(25,25))\n",
    "ax = fig.add_subplot(projection='3d')\n",
    "ax.scatter3D(pxx, pyy, pzz, color='r')\n",
    "ax.scatter3D(exx, eyy, ezz, color='g')\n",
    "ax.scatter3D(mxx, myy, mzz, color='gray')\n"
   ]
  },
  {
   "cell_type": "code",
   "execution_count": null,
   "id": "576dba97",
   "metadata": {},
   "outputs": [],
   "source": [
    "fig = plt.figure(figsize=(25,25))\n",
    "ax = fig.add_subplot(projection='3d')\n",
    "ax.scatter3D(pxx, pyy, pzz, color='r')\n",
    "ax.scatter3D(sxx, syy, szz, color='y')"
   ]
  },
  {
   "cell_type": "markdown",
   "id": "fe55f3ab",
   "metadata": {},
   "source": [
    "### 'Sky' projections from Pandora"
   ]
  },
  {
   "cell_type": "code",
   "execution_count": null,
   "id": "99453f2c",
   "metadata": {},
   "outputs": [],
   "source": [
    "# Produce RA and Dec values for each body in Pandora reference frame at each time step\n",
    "ss_ra  = ss.icrs.transform_to('fk5').ra.wrap_at(180 * u.deg).radian\n",
    "ss_dec = ss.icrs.transform_to('fk5').dec.radian\n",
    "\n",
    "ee_ra  = ee.icrs.transform_to('fk5').ra.wrap_at(180 * u.deg).radian\n",
    "ee_dec = ee.icrs.transform_to('fk5').dec.radian\n",
    "\n",
    "mm_ra  = mm.icrs.transform_to('fk5').ra.wrap_at(180 * u.deg).radian\n",
    "mm_dec = mm.icrs.transform_to('fk5').dec.radian\n",
    "\n",
    "pp_ra  = pp.icrs.transform_to('fk5').ra.wrap_at(180 * u.deg).radian\n",
    "pp_dec = pp.icrs.transform_to('fk5').dec.radian"
   ]
  },
  {
   "cell_type": "code",
   "execution_count": null,
   "id": "4639fbfb",
   "metadata": {},
   "outputs": [],
   "source": [
    "plt.figure(figsize=(20,10)) \n",
    "plt.subplot(111, projection=\"aitoff\")\n",
    "plt.title(\"Projection of Earth, Moon, Sun from Pandora ref frame\")\n",
    "plt.grid(True)\n",
    "plt.plot(ee_ra, ee_dec, 'o', markersize=2, color='g', label='Earth')\n",
    "plt.plot(mm_ra, mm_dec, 'o', markersize=2, color='grey', label='Moon')\n",
    "plt.plot(ss_ra, ss_dec, '*', markersize=2, color='y', label='Sun')\n",
    "plt.plot(pp_ra, pp_dec, 'o', markersize=2, color='r', label='Pandora')\n",
    "plt.subplots_adjust(top=0.95,bottom=0.0)\n",
    "plt.legend()\n",
    "plt.show()"
   ]
  },
  {
   "cell_type": "code",
   "execution_count": null,
   "id": "3a705ad9",
   "metadata": {},
   "outputs": [],
   "source": [
    "ss0 = SkyCoord(x=sxx[0], y=syy[0], z=szz[0], unit='km', representation_type='cartesian')\n",
    "pp0 = SkyCoord(x=pxx[0], y=pyy[0], z=pzz[0], unit='km', representation_type='cartesian')\n",
    "ee0 = SkyCoord(x=exx[0], y=eyy[0], z=ezz[0], unit='km', representation_type='cartesian')\n",
    "mm0 = SkyCoord(x=mxx[0], y=myy[0], z=mzz[0], unit='km', representation_type='cartesian')"
   ]
  },
  {
   "cell_type": "code",
   "execution_count": null,
   "id": "4c0b1170",
   "metadata": {},
   "outputs": [],
   "source": [
    "gj3470_ra  = planet.icrs.ra.wrap_at(180 * u.deg).radian\n",
    "gj3470_dec = planet.icrs.dec.radian\n",
    "\n",
    "ss0_ra  = ss0.icrs.transform_to('fk5').ra.wrap_at(180 * u.deg).radian\n",
    "ss0_dec = ss0.icrs.transform_to('fk5').dec.radian\n",
    "\n",
    "pp0_ra  = pp0.icrs.transform_to('fk5').ra.wrap_at(180 * u.deg).radian\n",
    "pp0_dec = pp0.icrs.transform_to('fk5').dec.radian"
   ]
  },
  {
   "cell_type": "code",
   "execution_count": null,
   "id": "a85e1f53",
   "metadata": {},
   "outputs": [],
   "source": [
    "plt.figure(figsize=(8,4.2)) \n",
    "plt.subplot(111, projection=\"aitoff\")\n",
    "plt.title(\"Projection of Sun and GJ3470 from Pandora ref frame\")\n",
    "plt.grid(True)\n",
    "plt.plot(gj3470_ra, gj3470_dec, 'o', markersize=2, color='purple', label='GJ 3470')\n",
    "plt.plot(ss0_ra, ss0_dec, 'o', markersize=2, color='y', label='Sun')\n",
    "plt.plot(pp0_ra, pp0_dec, 'o', markersize=2, color='r', label='Pandora')\n",
    "plt.legend()\n",
    "plt.subplots_adjust(top=0.95,bottom=0.0)\n",
    "plt.show()"
   ]
  }
 ],
 "metadata": {
  "kernelspec": {
   "display_name": "Python 3",
   "language": "python",
   "name": "python3"
  },
  "language_info": {
   "codemirror_mode": {
    "name": "ipython",
    "version": 3
   },
   "file_extension": ".py",
   "mimetype": "text/x-python",
   "name": "python",
   "nbconvert_exporter": "python",
   "pygments_lexer": "ipython3",
   "version": "3.7.10"
  }
 },
 "nbformat": 4,
 "nbformat_minor": 5
}
